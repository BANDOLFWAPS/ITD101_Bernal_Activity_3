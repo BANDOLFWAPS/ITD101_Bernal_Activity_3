{
 "cells": [
  {
   "cell_type": "markdown",
   "id": "34e1a236-11c9-4641-b2d3-9c7ff1a56397",
   "metadata": {},
   "source": [
    "<h1>UK ROAD ACCIDENT DATA ANALYSIS</h1>\n",
    "<h1>INCLUSIVE YEAR 2019 - 2022</h1>"
   ]
  },
  {
   "cell_type": "markdown",
   "id": "9ad634b1-6f71-4674-979b-d3a1b12fb275",
   "metadata": {},
   "source": [
    "<h3>Analyst : Ramon Bernal</h3>"
   ]
  },
  {
   "cell_type": "code",
   "execution_count": 1,
   "id": "9afbbcc2-7015-40bd-b92a-5bcd9923c27c",
   "metadata": {},
   "outputs": [],
   "source": [
    "import numpy as np\n",
    "import pandas as pd\n",
    "import matplotlib.pyplot as plt\n",
    "import seaborn as sns\n",
    "from scipy.stats import f_oneway"
   ]
  },
  {
   "cell_type": "code",
   "execution_count": 2,
   "id": "7fd2212a-5d73-4e23-a28d-1fdc432daf7f",
   "metadata": {},
   "outputs": [],
   "source": [
    "accidents = pd.read_csv('datasets\\\\accident_data.csv')"
   ]
  },
  {
   "cell_type": "code",
   "execution_count": 3,
   "id": "d2ab84a7-0aaa-4533-bec5-cdacc76ead04",
   "metadata": {},
   "outputs": [
    {
     "data": {
      "text/html": [
       "<div>\n",
       "<style scoped>\n",
       "    .dataframe tbody tr th:only-of-type {\n",
       "        vertical-align: middle;\n",
       "    }\n",
       "\n",
       "    .dataframe tbody tr th {\n",
       "        vertical-align: top;\n",
       "    }\n",
       "\n",
       "    .dataframe thead th {\n",
       "        text-align: right;\n",
       "    }\n",
       "</style>\n",
       "<table border=\"1\" class=\"dataframe\">\n",
       "  <thead>\n",
       "    <tr style=\"text-align: right;\">\n",
       "      <th></th>\n",
       "      <th>Index</th>\n",
       "      <th>Accident_Severity</th>\n",
       "      <th>Accident Date</th>\n",
       "      <th>Latitude</th>\n",
       "      <th>Light_Conditions</th>\n",
       "      <th>District Area</th>\n",
       "      <th>Longitude</th>\n",
       "      <th>Number_of_Casualties</th>\n",
       "      <th>Number_of_Vehicles</th>\n",
       "      <th>Road_Surface_Conditions</th>\n",
       "      <th>Road_Type</th>\n",
       "      <th>Urban_or_Rural_Area</th>\n",
       "      <th>Weather_Conditions</th>\n",
       "      <th>Vehicle_Type</th>\n",
       "    </tr>\n",
       "  </thead>\n",
       "  <tbody>\n",
       "    <tr>\n",
       "      <th>0</th>\n",
       "      <td>200701BS64157</td>\n",
       "      <td>Serious</td>\n",
       "      <td>5/6/2019</td>\n",
       "      <td>51.506187</td>\n",
       "      <td>Darkness - lights lit</td>\n",
       "      <td>Kensington and Chelsea</td>\n",
       "      <td>-0.209082</td>\n",
       "      <td>1</td>\n",
       "      <td>2</td>\n",
       "      <td>Dry</td>\n",
       "      <td>Single carriageway</td>\n",
       "      <td>Urban</td>\n",
       "      <td>Fine no high winds</td>\n",
       "      <td>Car</td>\n",
       "    </tr>\n",
       "    <tr>\n",
       "      <th>1</th>\n",
       "      <td>200701BS65737</td>\n",
       "      <td>Serious</td>\n",
       "      <td>2/7/2019</td>\n",
       "      <td>51.495029</td>\n",
       "      <td>Daylight</td>\n",
       "      <td>Kensington and Chelsea</td>\n",
       "      <td>-0.173647</td>\n",
       "      <td>1</td>\n",
       "      <td>2</td>\n",
       "      <td>Wet or damp</td>\n",
       "      <td>Single carriageway</td>\n",
       "      <td>Urban</td>\n",
       "      <td>Raining no high winds</td>\n",
       "      <td>Car</td>\n",
       "    </tr>\n",
       "    <tr>\n",
       "      <th>2</th>\n",
       "      <td>200701BS66127</td>\n",
       "      <td>Serious</td>\n",
       "      <td>26-08-2019</td>\n",
       "      <td>51.517715</td>\n",
       "      <td>Darkness - lighting unknown</td>\n",
       "      <td>Kensington and Chelsea</td>\n",
       "      <td>-0.210215</td>\n",
       "      <td>1</td>\n",
       "      <td>3</td>\n",
       "      <td>Dry</td>\n",
       "      <td>NaN</td>\n",
       "      <td>Urban</td>\n",
       "      <td>NaN</td>\n",
       "      <td>Taxi/Private hire car</td>\n",
       "    </tr>\n",
       "    <tr>\n",
       "      <th>3</th>\n",
       "      <td>200701BS66128</td>\n",
       "      <td>Serious</td>\n",
       "      <td>16-08-2019</td>\n",
       "      <td>51.495478</td>\n",
       "      <td>Daylight</td>\n",
       "      <td>Kensington and Chelsea</td>\n",
       "      <td>-0.202731</td>\n",
       "      <td>1</td>\n",
       "      <td>4</td>\n",
       "      <td>Dry</td>\n",
       "      <td>Single carriageway</td>\n",
       "      <td>Urban</td>\n",
       "      <td>Fine no high winds</td>\n",
       "      <td>Bus or coach (17 or more pass seats)</td>\n",
       "    </tr>\n",
       "    <tr>\n",
       "      <th>4</th>\n",
       "      <td>200701BS66837</td>\n",
       "      <td>Slight</td>\n",
       "      <td>3/9/2019</td>\n",
       "      <td>51.488576</td>\n",
       "      <td>Darkness - lights lit</td>\n",
       "      <td>Kensington and Chelsea</td>\n",
       "      <td>-0.192487</td>\n",
       "      <td>1</td>\n",
       "      <td>2</td>\n",
       "      <td>Dry</td>\n",
       "      <td>NaN</td>\n",
       "      <td>Urban</td>\n",
       "      <td>NaN</td>\n",
       "      <td>Other vehicle</td>\n",
       "    </tr>\n",
       "    <tr>\n",
       "      <th>...</th>\n",
       "      <td>...</td>\n",
       "      <td>...</td>\n",
       "      <td>...</td>\n",
       "      <td>...</td>\n",
       "      <td>...</td>\n",
       "      <td>...</td>\n",
       "      <td>...</td>\n",
       "      <td>...</td>\n",
       "      <td>...</td>\n",
       "      <td>...</td>\n",
       "      <td>...</td>\n",
       "      <td>...</td>\n",
       "      <td>...</td>\n",
       "      <td>...</td>\n",
       "    </tr>\n",
       "    <tr>\n",
       "      <th>660674</th>\n",
       "      <td>201091NM01760</td>\n",
       "      <td>Slight</td>\n",
       "      <td>18-02-2022</td>\n",
       "      <td>57.374005</td>\n",
       "      <td>Daylight</td>\n",
       "      <td>Highland</td>\n",
       "      <td>-3.467828</td>\n",
       "      <td>2</td>\n",
       "      <td>1</td>\n",
       "      <td>Dry</td>\n",
       "      <td>Single carriageway</td>\n",
       "      <td>Rural</td>\n",
       "      <td>Fine no high winds</td>\n",
       "      <td>Car</td>\n",
       "    </tr>\n",
       "    <tr>\n",
       "      <th>660675</th>\n",
       "      <td>201091NM01881</td>\n",
       "      <td>Slight</td>\n",
       "      <td>21-02-2022</td>\n",
       "      <td>57.232273</td>\n",
       "      <td>Darkness - no lighting</td>\n",
       "      <td>Highland</td>\n",
       "      <td>-3.809281</td>\n",
       "      <td>1</td>\n",
       "      <td>1</td>\n",
       "      <td>Frost or ice</td>\n",
       "      <td>Single carriageway</td>\n",
       "      <td>Rural</td>\n",
       "      <td>Fine no high winds</td>\n",
       "      <td>Car</td>\n",
       "    </tr>\n",
       "    <tr>\n",
       "      <th>660676</th>\n",
       "      <td>201091NM01935</td>\n",
       "      <td>Slight</td>\n",
       "      <td>23-02-2022</td>\n",
       "      <td>57.585044</td>\n",
       "      <td>Daylight</td>\n",
       "      <td>Highland</td>\n",
       "      <td>-3.862727</td>\n",
       "      <td>1</td>\n",
       "      <td>3</td>\n",
       "      <td>Frost or ice</td>\n",
       "      <td>Single carriageway</td>\n",
       "      <td>Rural</td>\n",
       "      <td>Fine no high winds</td>\n",
       "      <td>Car</td>\n",
       "    </tr>\n",
       "    <tr>\n",
       "      <th>660677</th>\n",
       "      <td>201091NM01964</td>\n",
       "      <td>Serious</td>\n",
       "      <td>23-02-2022</td>\n",
       "      <td>57.214898</td>\n",
       "      <td>Darkness - no lighting</td>\n",
       "      <td>Highland</td>\n",
       "      <td>-3.823997</td>\n",
       "      <td>1</td>\n",
       "      <td>2</td>\n",
       "      <td>Wet or damp</td>\n",
       "      <td>Single carriageway</td>\n",
       "      <td>Rural</td>\n",
       "      <td>Fine no high winds</td>\n",
       "      <td>Motorcycle over 500cc</td>\n",
       "    </tr>\n",
       "    <tr>\n",
       "      <th>660678</th>\n",
       "      <td>201091NM02142</td>\n",
       "      <td>Serious</td>\n",
       "      <td>28-02-2022</td>\n",
       "      <td>57.575210</td>\n",
       "      <td>Daylight</td>\n",
       "      <td>Highland</td>\n",
       "      <td>-3.895673</td>\n",
       "      <td>1</td>\n",
       "      <td>1</td>\n",
       "      <td>Wet or damp</td>\n",
       "      <td>Dual carriageway</td>\n",
       "      <td>Rural</td>\n",
       "      <td>Snowing no high winds</td>\n",
       "      <td>Car</td>\n",
       "    </tr>\n",
       "  </tbody>\n",
       "</table>\n",
       "<p>660679 rows × 14 columns</p>\n",
       "</div>"
      ],
      "text/plain": [
       "                Index Accident_Severity Accident Date   Latitude  \\\n",
       "0       200701BS64157           Serious      5/6/2019  51.506187   \n",
       "1       200701BS65737           Serious      2/7/2019  51.495029   \n",
       "2       200701BS66127           Serious    26-08-2019  51.517715   \n",
       "3       200701BS66128           Serious    16-08-2019  51.495478   \n",
       "4       200701BS66837            Slight      3/9/2019  51.488576   \n",
       "...               ...               ...           ...        ...   \n",
       "660674  201091NM01760            Slight    18-02-2022  57.374005   \n",
       "660675  201091NM01881            Slight    21-02-2022  57.232273   \n",
       "660676  201091NM01935            Slight    23-02-2022  57.585044   \n",
       "660677  201091NM01964           Serious    23-02-2022  57.214898   \n",
       "660678  201091NM02142           Serious    28-02-2022  57.575210   \n",
       "\n",
       "                   Light_Conditions           District Area  Longitude  \\\n",
       "0             Darkness - lights lit  Kensington and Chelsea  -0.209082   \n",
       "1                          Daylight  Kensington and Chelsea  -0.173647   \n",
       "2       Darkness - lighting unknown  Kensington and Chelsea  -0.210215   \n",
       "3                          Daylight  Kensington and Chelsea  -0.202731   \n",
       "4             Darkness - lights lit  Kensington and Chelsea  -0.192487   \n",
       "...                             ...                     ...        ...   \n",
       "660674                     Daylight                Highland  -3.467828   \n",
       "660675       Darkness - no lighting                Highland  -3.809281   \n",
       "660676                     Daylight                Highland  -3.862727   \n",
       "660677       Darkness - no lighting                Highland  -3.823997   \n",
       "660678                     Daylight                Highland  -3.895673   \n",
       "\n",
       "        Number_of_Casualties  Number_of_Vehicles Road_Surface_Conditions  \\\n",
       "0                          1                   2                     Dry   \n",
       "1                          1                   2             Wet or damp   \n",
       "2                          1                   3                     Dry   \n",
       "3                          1                   4                     Dry   \n",
       "4                          1                   2                     Dry   \n",
       "...                      ...                 ...                     ...   \n",
       "660674                     2                   1                     Dry   \n",
       "660675                     1                   1            Frost or ice   \n",
       "660676                     1                   3            Frost or ice   \n",
       "660677                     1                   2             Wet or damp   \n",
       "660678                     1                   1             Wet or damp   \n",
       "\n",
       "                 Road_Type Urban_or_Rural_Area     Weather_Conditions  \\\n",
       "0       Single carriageway               Urban     Fine no high winds   \n",
       "1       Single carriageway               Urban  Raining no high winds   \n",
       "2                      NaN               Urban                    NaN   \n",
       "3       Single carriageway               Urban     Fine no high winds   \n",
       "4                      NaN               Urban                    NaN   \n",
       "...                    ...                 ...                    ...   \n",
       "660674  Single carriageway               Rural     Fine no high winds   \n",
       "660675  Single carriageway               Rural     Fine no high winds   \n",
       "660676  Single carriageway               Rural     Fine no high winds   \n",
       "660677  Single carriageway               Rural     Fine no high winds   \n",
       "660678    Dual carriageway               Rural  Snowing no high winds   \n",
       "\n",
       "                                Vehicle_Type  \n",
       "0                                        Car  \n",
       "1                                        Car  \n",
       "2                      Taxi/Private hire car  \n",
       "3       Bus or coach (17 or more pass seats)  \n",
       "4                              Other vehicle  \n",
       "...                                      ...  \n",
       "660674                                   Car  \n",
       "660675                                   Car  \n",
       "660676                                   Car  \n",
       "660677                 Motorcycle over 500cc  \n",
       "660678                                   Car  \n",
       "\n",
       "[660679 rows x 14 columns]"
      ]
     },
     "execution_count": 3,
     "metadata": {},
     "output_type": "execute_result"
    }
   ],
   "source": [
    "accidents"
   ]
  },
  {
   "cell_type": "code",
   "execution_count": 4,
   "id": "4f05da7b-6297-45cc-a10c-bdf4ed96581a",
   "metadata": {},
   "outputs": [
    {
     "name": "stdout",
     "output_type": "stream",
     "text": [
      "<class 'pandas.core.frame.DataFrame'>\n",
      "RangeIndex: 660679 entries, 0 to 660678\n",
      "Data columns (total 14 columns):\n",
      " #   Column                   Non-Null Count   Dtype  \n",
      "---  ------                   --------------   -----  \n",
      " 0   Index                    660679 non-null  object \n",
      " 1   Accident_Severity        660679 non-null  object \n",
      " 2   Accident Date            660679 non-null  object \n",
      " 3   Latitude                 660654 non-null  float64\n",
      " 4   Light_Conditions         660679 non-null  object \n",
      " 5   District Area            660679 non-null  object \n",
      " 6   Longitude                660653 non-null  float64\n",
      " 7   Number_of_Casualties     660679 non-null  int64  \n",
      " 8   Number_of_Vehicles       660679 non-null  int64  \n",
      " 9   Road_Surface_Conditions  659953 non-null  object \n",
      " 10  Road_Type                656159 non-null  object \n",
      " 11  Urban_or_Rural_Area      660664 non-null  object \n",
      " 12  Weather_Conditions       646551 non-null  object \n",
      " 13  Vehicle_Type             660679 non-null  object \n",
      "dtypes: float64(2), int64(2), object(10)\n",
      "memory usage: 70.6+ MB\n"
     ]
    }
   ],
   "source": [
    "accidents.info()"
   ]
  },
  {
   "cell_type": "code",
   "execution_count": 5,
   "id": "f10c5ff2-2c47-4fb2-9277-27dd75fd9734",
   "metadata": {},
   "outputs": [
    {
     "data": {
      "text/html": [
       "<div>\n",
       "<style scoped>\n",
       "    .dataframe tbody tr th:only-of-type {\n",
       "        vertical-align: middle;\n",
       "    }\n",
       "\n",
       "    .dataframe tbody tr th {\n",
       "        vertical-align: top;\n",
       "    }\n",
       "\n",
       "    .dataframe thead th {\n",
       "        text-align: right;\n",
       "    }\n",
       "</style>\n",
       "<table border=\"1\" class=\"dataframe\">\n",
       "  <thead>\n",
       "    <tr style=\"text-align: right;\">\n",
       "      <th></th>\n",
       "      <th>Index</th>\n",
       "      <th>Accident_Severity</th>\n",
       "      <th>Accident Date</th>\n",
       "      <th>Latitude</th>\n",
       "      <th>Light_Conditions</th>\n",
       "      <th>District Area</th>\n",
       "      <th>Longitude</th>\n",
       "      <th>Number_of_Casualties</th>\n",
       "      <th>Number_of_Vehicles</th>\n",
       "      <th>Road_Surface_Conditions</th>\n",
       "      <th>Road_Type</th>\n",
       "      <th>Urban_or_Rural_Area</th>\n",
       "      <th>Weather_Conditions</th>\n",
       "      <th>Vehicle_Type</th>\n",
       "    </tr>\n",
       "  </thead>\n",
       "  <tbody>\n",
       "    <tr>\n",
       "      <th>0</th>\n",
       "      <td>False</td>\n",
       "      <td>False</td>\n",
       "      <td>False</td>\n",
       "      <td>False</td>\n",
       "      <td>False</td>\n",
       "      <td>False</td>\n",
       "      <td>False</td>\n",
       "      <td>False</td>\n",
       "      <td>False</td>\n",
       "      <td>False</td>\n",
       "      <td>False</td>\n",
       "      <td>False</td>\n",
       "      <td>False</td>\n",
       "      <td>False</td>\n",
       "    </tr>\n",
       "    <tr>\n",
       "      <th>1</th>\n",
       "      <td>False</td>\n",
       "      <td>False</td>\n",
       "      <td>False</td>\n",
       "      <td>False</td>\n",
       "      <td>False</td>\n",
       "      <td>False</td>\n",
       "      <td>False</td>\n",
       "      <td>False</td>\n",
       "      <td>False</td>\n",
       "      <td>False</td>\n",
       "      <td>False</td>\n",
       "      <td>False</td>\n",
       "      <td>False</td>\n",
       "      <td>False</td>\n",
       "    </tr>\n",
       "    <tr>\n",
       "      <th>2</th>\n",
       "      <td>False</td>\n",
       "      <td>False</td>\n",
       "      <td>False</td>\n",
       "      <td>False</td>\n",
       "      <td>False</td>\n",
       "      <td>False</td>\n",
       "      <td>False</td>\n",
       "      <td>False</td>\n",
       "      <td>False</td>\n",
       "      <td>False</td>\n",
       "      <td>True</td>\n",
       "      <td>False</td>\n",
       "      <td>True</td>\n",
       "      <td>False</td>\n",
       "    </tr>\n",
       "    <tr>\n",
       "      <th>3</th>\n",
       "      <td>False</td>\n",
       "      <td>False</td>\n",
       "      <td>False</td>\n",
       "      <td>False</td>\n",
       "      <td>False</td>\n",
       "      <td>False</td>\n",
       "      <td>False</td>\n",
       "      <td>False</td>\n",
       "      <td>False</td>\n",
       "      <td>False</td>\n",
       "      <td>False</td>\n",
       "      <td>False</td>\n",
       "      <td>False</td>\n",
       "      <td>False</td>\n",
       "    </tr>\n",
       "    <tr>\n",
       "      <th>4</th>\n",
       "      <td>False</td>\n",
       "      <td>False</td>\n",
       "      <td>False</td>\n",
       "      <td>False</td>\n",
       "      <td>False</td>\n",
       "      <td>False</td>\n",
       "      <td>False</td>\n",
       "      <td>False</td>\n",
       "      <td>False</td>\n",
       "      <td>False</td>\n",
       "      <td>True</td>\n",
       "      <td>False</td>\n",
       "      <td>True</td>\n",
       "      <td>False</td>\n",
       "    </tr>\n",
       "    <tr>\n",
       "      <th>...</th>\n",
       "      <td>...</td>\n",
       "      <td>...</td>\n",
       "      <td>...</td>\n",
       "      <td>...</td>\n",
       "      <td>...</td>\n",
       "      <td>...</td>\n",
       "      <td>...</td>\n",
       "      <td>...</td>\n",
       "      <td>...</td>\n",
       "      <td>...</td>\n",
       "      <td>...</td>\n",
       "      <td>...</td>\n",
       "      <td>...</td>\n",
       "      <td>...</td>\n",
       "    </tr>\n",
       "    <tr>\n",
       "      <th>660674</th>\n",
       "      <td>False</td>\n",
       "      <td>False</td>\n",
       "      <td>False</td>\n",
       "      <td>False</td>\n",
       "      <td>False</td>\n",
       "      <td>False</td>\n",
       "      <td>False</td>\n",
       "      <td>False</td>\n",
       "      <td>False</td>\n",
       "      <td>False</td>\n",
       "      <td>False</td>\n",
       "      <td>False</td>\n",
       "      <td>False</td>\n",
       "      <td>False</td>\n",
       "    </tr>\n",
       "    <tr>\n",
       "      <th>660675</th>\n",
       "      <td>False</td>\n",
       "      <td>False</td>\n",
       "      <td>False</td>\n",
       "      <td>False</td>\n",
       "      <td>False</td>\n",
       "      <td>False</td>\n",
       "      <td>False</td>\n",
       "      <td>False</td>\n",
       "      <td>False</td>\n",
       "      <td>False</td>\n",
       "      <td>False</td>\n",
       "      <td>False</td>\n",
       "      <td>False</td>\n",
       "      <td>False</td>\n",
       "    </tr>\n",
       "    <tr>\n",
       "      <th>660676</th>\n",
       "      <td>False</td>\n",
       "      <td>False</td>\n",
       "      <td>False</td>\n",
       "      <td>False</td>\n",
       "      <td>False</td>\n",
       "      <td>False</td>\n",
       "      <td>False</td>\n",
       "      <td>False</td>\n",
       "      <td>False</td>\n",
       "      <td>False</td>\n",
       "      <td>False</td>\n",
       "      <td>False</td>\n",
       "      <td>False</td>\n",
       "      <td>False</td>\n",
       "    </tr>\n",
       "    <tr>\n",
       "      <th>660677</th>\n",
       "      <td>False</td>\n",
       "      <td>False</td>\n",
       "      <td>False</td>\n",
       "      <td>False</td>\n",
       "      <td>False</td>\n",
       "      <td>False</td>\n",
       "      <td>False</td>\n",
       "      <td>False</td>\n",
       "      <td>False</td>\n",
       "      <td>False</td>\n",
       "      <td>False</td>\n",
       "      <td>False</td>\n",
       "      <td>False</td>\n",
       "      <td>False</td>\n",
       "    </tr>\n",
       "    <tr>\n",
       "      <th>660678</th>\n",
       "      <td>False</td>\n",
       "      <td>False</td>\n",
       "      <td>False</td>\n",
       "      <td>False</td>\n",
       "      <td>False</td>\n",
       "      <td>False</td>\n",
       "      <td>False</td>\n",
       "      <td>False</td>\n",
       "      <td>False</td>\n",
       "      <td>False</td>\n",
       "      <td>False</td>\n",
       "      <td>False</td>\n",
       "      <td>False</td>\n",
       "      <td>False</td>\n",
       "    </tr>\n",
       "  </tbody>\n",
       "</table>\n",
       "<p>660679 rows × 14 columns</p>\n",
       "</div>"
      ],
      "text/plain": [
       "        Index  Accident_Severity  Accident Date  Latitude  Light_Conditions  \\\n",
       "0       False              False          False     False             False   \n",
       "1       False              False          False     False             False   \n",
       "2       False              False          False     False             False   \n",
       "3       False              False          False     False             False   \n",
       "4       False              False          False     False             False   \n",
       "...       ...                ...            ...       ...               ...   \n",
       "660674  False              False          False     False             False   \n",
       "660675  False              False          False     False             False   \n",
       "660676  False              False          False     False             False   \n",
       "660677  False              False          False     False             False   \n",
       "660678  False              False          False     False             False   \n",
       "\n",
       "        District Area  Longitude  Number_of_Casualties  Number_of_Vehicles  \\\n",
       "0               False      False                 False               False   \n",
       "1               False      False                 False               False   \n",
       "2               False      False                 False               False   \n",
       "3               False      False                 False               False   \n",
       "4               False      False                 False               False   \n",
       "...               ...        ...                   ...                 ...   \n",
       "660674          False      False                 False               False   \n",
       "660675          False      False                 False               False   \n",
       "660676          False      False                 False               False   \n",
       "660677          False      False                 False               False   \n",
       "660678          False      False                 False               False   \n",
       "\n",
       "        Road_Surface_Conditions  Road_Type  Urban_or_Rural_Area  \\\n",
       "0                         False      False                False   \n",
       "1                         False      False                False   \n",
       "2                         False       True                False   \n",
       "3                         False      False                False   \n",
       "4                         False       True                False   \n",
       "...                         ...        ...                  ...   \n",
       "660674                    False      False                False   \n",
       "660675                    False      False                False   \n",
       "660676                    False      False                False   \n",
       "660677                    False      False                False   \n",
       "660678                    False      False                False   \n",
       "\n",
       "        Weather_Conditions  Vehicle_Type  \n",
       "0                    False         False  \n",
       "1                    False         False  \n",
       "2                     True         False  \n",
       "3                    False         False  \n",
       "4                     True         False  \n",
       "...                    ...           ...  \n",
       "660674               False         False  \n",
       "660675               False         False  \n",
       "660676               False         False  \n",
       "660677               False         False  \n",
       "660678               False         False  \n",
       "\n",
       "[660679 rows x 14 columns]"
      ]
     },
     "execution_count": 5,
     "metadata": {},
     "output_type": "execute_result"
    }
   ],
   "source": [
    "accidents.isnull()"
   ]
  },
  {
   "cell_type": "code",
   "execution_count": 6,
   "id": "c1e80c72-2eaa-4ae4-87f8-9ba225c15bc1",
   "metadata": {},
   "outputs": [
    {
     "data": {
      "text/plain": [
       "Index                          0\n",
       "Accident_Severity              0\n",
       "Accident Date                  0\n",
       "Latitude                      25\n",
       "Light_Conditions               0\n",
       "District Area                  0\n",
       "Longitude                     26\n",
       "Number_of_Casualties           0\n",
       "Number_of_Vehicles             0\n",
       "Road_Surface_Conditions      726\n",
       "Road_Type                   4520\n",
       "Urban_or_Rural_Area           15\n",
       "Weather_Conditions         14128\n",
       "Vehicle_Type                   0\n",
       "dtype: int64"
      ]
     },
     "execution_count": 6,
     "metadata": {},
     "output_type": "execute_result"
    }
   ],
   "source": [
    "accidents.isnull().sum()"
   ]
  },
  {
   "cell_type": "code",
   "execution_count": 7,
   "id": "3a5dc20a-f2c4-4920-8a6f-10a5f6567c0c",
   "metadata": {},
   "outputs": [
    {
     "data": {
      "text/html": [
       "<div>\n",
       "<style scoped>\n",
       "    .dataframe tbody tr th:only-of-type {\n",
       "        vertical-align: middle;\n",
       "    }\n",
       "\n",
       "    .dataframe tbody tr th {\n",
       "        vertical-align: top;\n",
       "    }\n",
       "\n",
       "    .dataframe thead th {\n",
       "        text-align: right;\n",
       "    }\n",
       "</style>\n",
       "<table border=\"1\" class=\"dataframe\">\n",
       "  <thead>\n",
       "    <tr style=\"text-align: right;\">\n",
       "      <th></th>\n",
       "      <th>Latitude</th>\n",
       "      <th>Longitude</th>\n",
       "      <th>Number_of_Casualties</th>\n",
       "      <th>Number_of_Vehicles</th>\n",
       "    </tr>\n",
       "  </thead>\n",
       "  <tbody>\n",
       "    <tr>\n",
       "      <th>count</th>\n",
       "      <td>660654.000000</td>\n",
       "      <td>660653.000000</td>\n",
       "      <td>660679.000000</td>\n",
       "      <td>660679.000000</td>\n",
       "    </tr>\n",
       "    <tr>\n",
       "      <th>mean</th>\n",
       "      <td>52.553866</td>\n",
       "      <td>-1.431210</td>\n",
       "      <td>1.357040</td>\n",
       "      <td>1.831255</td>\n",
       "    </tr>\n",
       "    <tr>\n",
       "      <th>std</th>\n",
       "      <td>1.406922</td>\n",
       "      <td>1.383330</td>\n",
       "      <td>0.824847</td>\n",
       "      <td>0.715269</td>\n",
       "    </tr>\n",
       "    <tr>\n",
       "      <th>min</th>\n",
       "      <td>49.914430</td>\n",
       "      <td>-7.516225</td>\n",
       "      <td>1.000000</td>\n",
       "      <td>1.000000</td>\n",
       "    </tr>\n",
       "    <tr>\n",
       "      <th>25%</th>\n",
       "      <td>51.490690</td>\n",
       "      <td>-2.332291</td>\n",
       "      <td>1.000000</td>\n",
       "      <td>1.000000</td>\n",
       "    </tr>\n",
       "    <tr>\n",
       "      <th>50%</th>\n",
       "      <td>52.315641</td>\n",
       "      <td>-1.411667</td>\n",
       "      <td>1.000000</td>\n",
       "      <td>2.000000</td>\n",
       "    </tr>\n",
       "    <tr>\n",
       "      <th>75%</th>\n",
       "      <td>53.453452</td>\n",
       "      <td>-0.232869</td>\n",
       "      <td>1.000000</td>\n",
       "      <td>2.000000</td>\n",
       "    </tr>\n",
       "    <tr>\n",
       "      <th>max</th>\n",
       "      <td>60.757544</td>\n",
       "      <td>1.762010</td>\n",
       "      <td>68.000000</td>\n",
       "      <td>32.000000</td>\n",
       "    </tr>\n",
       "  </tbody>\n",
       "</table>\n",
       "</div>"
      ],
      "text/plain": [
       "            Latitude      Longitude  Number_of_Casualties  Number_of_Vehicles\n",
       "count  660654.000000  660653.000000         660679.000000       660679.000000\n",
       "mean       52.553866      -1.431210              1.357040            1.831255\n",
       "std         1.406922       1.383330              0.824847            0.715269\n",
       "min        49.914430      -7.516225              1.000000            1.000000\n",
       "25%        51.490690      -2.332291              1.000000            1.000000\n",
       "50%        52.315641      -1.411667              1.000000            2.000000\n",
       "75%        53.453452      -0.232869              1.000000            2.000000\n",
       "max        60.757544       1.762010             68.000000           32.000000"
      ]
     },
     "execution_count": 7,
     "metadata": {},
     "output_type": "execute_result"
    }
   ],
   "source": [
    "accidents.describe()"
   ]
  },
  {
   "cell_type": "markdown",
   "id": "8d1a48c3-841d-48db-9a96-b5c62987e139",
   "metadata": {},
   "source": [
    "options\n",
    "\n",
    "- delete the row\n",
    "\n",
    "- fill the empty cells with a value"
   ]
  },
  {
   "cell_type": "code",
   "execution_count": 8,
   "id": "2ec2ca0c-cea5-45e1-a5c5-43d41ce6a930",
   "metadata": {},
   "outputs": [],
   "source": [
    "accidents['Latitude'] = accidents['Latitude'].fillna(accidents['Latitude'].mean())"
   ]
  },
  {
   "cell_type": "code",
   "execution_count": 9,
   "id": "5a355145-a173-416c-a3f2-c17b4a0c4857",
   "metadata": {},
   "outputs": [],
   "source": [
    "accidents['Longitude'] = accidents['Longitude'].fillna(accidents['Longitude'].mean())"
   ]
  },
  {
   "cell_type": "code",
   "execution_count": 10,
   "id": "8c096f3b-bb50-407e-8a80-03dca7238fc1",
   "metadata": {},
   "outputs": [],
   "source": [
    "accidents['Urban_or_Rural_Area'] = accidents['Urban_or_Rural_Area'].fillna(accidents['Urban_or_Rural_Area'].mode()[0])"
   ]
  },
  {
   "cell_type": "code",
   "execution_count": 11,
   "id": "01cb5719-b460-400c-8c30-86f9596d90cd",
   "metadata": {},
   "outputs": [
    {
     "data": {
      "text/plain": [
       "Index                          0\n",
       "Accident_Severity              0\n",
       "Accident Date                  0\n",
       "Latitude                       0\n",
       "Light_Conditions               0\n",
       "District Area                  0\n",
       "Longitude                      0\n",
       "Number_of_Casualties           0\n",
       "Number_of_Vehicles             0\n",
       "Road_Surface_Conditions      726\n",
       "Road_Type                   4520\n",
       "Urban_or_Rural_Area            0\n",
       "Weather_Conditions         14128\n",
       "Vehicle_Type                   0\n",
       "dtype: int64"
      ]
     },
     "execution_count": 11,
     "metadata": {},
     "output_type": "execute_result"
    }
   ],
   "source": [
    "accidents.isnull().sum()"
   ]
  },
  {
   "cell_type": "code",
   "execution_count": 12,
   "id": "da08ce23-1377-4268-b0ae-b548330524db",
   "metadata": {},
   "outputs": [],
   "source": [
    "accidents['Accident Date'] = pd.to_datetime(accidents['Accident Date'], dayfirst = True, errors = 'coerce')"
   ]
  },
  {
   "cell_type": "code",
   "execution_count": 13,
   "id": "462e7fdb-c766-4e95-af4e-6e50c5e0a24e",
   "metadata": {},
   "outputs": [
    {
     "data": {
      "text/plain": [
       "Index                              object\n",
       "Accident_Severity                  object\n",
       "Accident Date              datetime64[ns]\n",
       "Latitude                          float64\n",
       "Light_Conditions                   object\n",
       "District Area                      object\n",
       "Longitude                         float64\n",
       "Number_of_Casualties                int64\n",
       "Number_of_Vehicles                  int64\n",
       "Road_Surface_Conditions            object\n",
       "Road_Type                          object\n",
       "Urban_or_Rural_Area                object\n",
       "Weather_Conditions                 object\n",
       "Vehicle_Type                       object\n",
       "dtype: object"
      ]
     },
     "execution_count": 13,
     "metadata": {},
     "output_type": "execute_result"
    }
   ],
   "source": [
    "accidents.dtypes"
   ]
  },
  {
   "cell_type": "code",
   "execution_count": 14,
   "id": "dbe91e43-018b-46b4-9b92-9c3a2d96531a",
   "metadata": {},
   "outputs": [],
   "source": [
    "accidents['Accident_Severity'] = accidents['Accident_Severity'].astype('category')"
   ]
  },
  {
   "cell_type": "code",
   "execution_count": 15,
   "id": "b1d06012-06ef-4c3c-886c-2875200cab79",
   "metadata": {},
   "outputs": [],
   "source": [
    "accidents['Light_Conditions'] = accidents['Light_Conditions'].astype('category')"
   ]
  },
  {
   "cell_type": "code",
   "execution_count": 16,
   "id": "eabc768c-47b5-4b9b-a150-3469c1bb1c64",
   "metadata": {},
   "outputs": [],
   "source": [
    "accidents['District Area'] = accidents['District Area'].astype('category')"
   ]
  },
  {
   "cell_type": "code",
   "execution_count": 17,
   "id": "79399311-2f9f-4522-ae73-2f88cf71719c",
   "metadata": {},
   "outputs": [],
   "source": [
    "accidents['Road_Surface_Conditions'] = accidents['Road_Surface_Conditions'].astype('category')"
   ]
  },
  {
   "cell_type": "code",
   "execution_count": 18,
   "id": "9dc297ab-dd22-4595-8b41-a2982d9f17bb",
   "metadata": {},
   "outputs": [],
   "source": [
    "accidents['Road_Type'] = accidents['Road_Type'].astype('category')"
   ]
  },
  {
   "cell_type": "code",
   "execution_count": 19,
   "id": "21c9ca6e-98ad-48a9-8ed9-dedd629fc96b",
   "metadata": {},
   "outputs": [],
   "source": [
    "accidents['Urban_or_Rural_Area'] = accidents['Urban_or_Rural_Area'].astype('category')"
   ]
  },
  {
   "cell_type": "code",
   "execution_count": 20,
   "id": "5036ac0c-389f-424d-be5e-d0ba51ca965d",
   "metadata": {},
   "outputs": [],
   "source": [
    "accidents['Weather_Conditions'] = accidents['Weather_Conditions'].astype('category')"
   ]
  },
  {
   "cell_type": "code",
   "execution_count": 21,
   "id": "8b5cc5dc-5b66-48cb-8706-65d959294996",
   "metadata": {},
   "outputs": [],
   "source": [
    "accidents['Vehicle_Type'] = accidents['Vehicle_Type'].astype('category')"
   ]
  },
  {
   "cell_type": "code",
   "execution_count": 22,
   "id": "e18619c2-fa9c-4837-b949-933b007657a6",
   "metadata": {},
   "outputs": [
    {
     "data": {
      "text/plain": [
       "Index                              object\n",
       "Accident_Severity                category\n",
       "Accident Date              datetime64[ns]\n",
       "Latitude                          float64\n",
       "Light_Conditions                 category\n",
       "District Area                    category\n",
       "Longitude                         float64\n",
       "Number_of_Casualties                int64\n",
       "Number_of_Vehicles                  int64\n",
       "Road_Surface_Conditions          category\n",
       "Road_Type                        category\n",
       "Urban_or_Rural_Area              category\n",
       "Weather_Conditions               category\n",
       "Vehicle_Type                     category\n",
       "dtype: object"
      ]
     },
     "execution_count": 22,
     "metadata": {},
     "output_type": "execute_result"
    }
   ],
   "source": [
    "accidents.dtypes"
   ]
  },
  {
   "cell_type": "markdown",
   "id": "1cd153b5-93e8-4a53-b206-254365a6007c",
   "metadata": {},
   "source": [
    "<h1>INSIGHTS</h1>"
   ]
  },
  {
   "cell_type": "markdown",
   "id": "ff796bbf-2145-43a5-b3d9-314e52df4b04",
   "metadata": {},
   "source": [
    "<h1>Insight No. 1</h1>\n",
    "<h1>Which meteorological circumstances result in the most accidents?</h1>\n",
    "<h1>Okay, no high winds cause the most accidents.</h1>"
   ]
  },
  {
   "cell_type": "code",
   "execution_count": 23,
   "id": "56894a0d-734a-47de-ad83-ebecee247390",
   "metadata": {},
   "outputs": [],
   "source": [
    "weatherCdt_accidents = accidents['Weather_Conditions'].value_counts()"
   ]
  },
  {
   "cell_type": "code",
   "execution_count": 24,
   "id": "38982f7d-f3c5-4fc8-b354-aea3e85e0d9e",
   "metadata": {},
   "outputs": [
    {
     "data": {
      "text/plain": [
       "Weather_Conditions\n",
       "Fine no high winds       520885\n",
       "Raining no high winds     79696\n",
       "Other                     17150\n",
       "Raining + high winds       9615\n",
       "Fine + high winds          8554\n",
       "Snowing no high winds      6238\n",
       "Fog or mist                3528\n",
       "Snowing + high winds        885\n",
       "Name: count, dtype: int64"
      ]
     },
     "execution_count": 24,
     "metadata": {},
     "output_type": "execute_result"
    }
   ],
   "source": [
    "weatherCdt_accidents"
   ]
  },
  {
   "cell_type": "markdown",
   "id": "a96ef2aa-25f3-4059-8265-235d641a1b25",
   "metadata": {},
   "source": [
    "<h1>Insight No. 1</h1>\n",
    "<h2>Multi-vehicle crashes does not result in more casualties</h2>"
   ]
  },
  {
   "cell_type": "markdown",
   "id": "fbdeb08a-662a-446b-a793-9a0b98d7afcd",
   "metadata": {},
   "source": [
    "<h1>Insight No. 2</h1>\n",
    "<h1>Do the number of vehicles engaged change between urban and rural areas?</h1>\n",
    "<h1>Yes, the number of automobiles engaged in accidents varies amongst them.</h1>\n",
    "<h1>There is a link between the number of automobiles participating and urban versus rural locations.</h1>"
   ]
  },
  {
   "cell_type": "code",
   "execution_count": 25,
   "id": "127ef794-d07e-45eb-830e-b006421a6f72",
   "metadata": {},
   "outputs": [],
   "source": [
    "severity_district = accidents[accidents['Accident_Severity'] == 'Fatal']['District Area'].value_counts()"
   ]
  },
  {
   "cell_type": "code",
   "execution_count": 26,
   "id": "94db3cfd-b26d-42e0-b996-8f4d82795d78",
   "metadata": {},
   "outputs": [
    {
     "data": {
      "text/plain": [
       "District Area\n",
       "Birmingham                  105\n",
       "Leeds                        93\n",
       "Highland                     88\n",
       "East Riding of Yorkshire     85\n",
       "Bradford                     71\n",
       "                           ... \n",
       "Havant                        2\n",
       "Orkney Islands                2\n",
       "Harlow                        1\n",
       "Stevenage                     1\n",
       "Clackmannanshire              1\n",
       "Name: count, Length: 422, dtype: int64"
      ]
     },
     "execution_count": 26,
     "metadata": {},
     "output_type": "execute_result"
    }
   ],
   "source": [
    "severity_district"
   ]
  },
  {
   "cell_type": "markdown",
   "id": "9aa08af5-45c1-474d-b561-050d31944d85",
   "metadata": {},
   "source": [
    "<h1>Insight No. 3</h1>\n",
    "<h1>According to reports, Birmingham has the most fatal accidents (105), followed by Leeds (93), and Highland (88).</h1>"
   ]
  },
  {
   "cell_type": "markdown",
   "id": "189ee976-682e-4359-aa8e-7a363914eb93",
   "metadata": {},
   "source": [
    "<h1>Relationship between accident weight and number of vehicles</h1>"
   ]
  },
  {
   "cell_type": "code",
   "execution_count": 27,
   "id": "bcdfeb0f-0715-48ec-a950-f3175de8409d",
   "metadata": {},
   "outputs": [],
   "source": [
    "severity_vehicles = np.round(accidents.groupby('Accident_Severity')['Number_of_Casualties'].mean(), 0)"
   ]
  },
  {
   "cell_type": "code",
   "execution_count": 28,
   "id": "3d1a3480-f4da-40fb-879e-403edd2384c1",
   "metadata": {},
   "outputs": [
    {
     "data": {
      "text/plain": [
       "Accident_Severity\n",
       "Fatal      2.0\n",
       "Serious    1.0\n",
       "Slight     1.0\n",
       "Name: Number_of_Casualties, dtype: float64"
      ]
     },
     "execution_count": 28,
     "metadata": {},
     "output_type": "execute_result"
    }
   ],
   "source": [
    "severity_vehicles"
   ]
  },
  {
   "cell_type": "markdown",
   "id": "ee9a9e2b-ca8f-4ba1-95ed-27fe6d06e98c",
   "metadata": {},
   "source": [
    "<h1>Insight No. 4</h1>\n",
    "<h1>Which district region has the greatest average casualty rate</h1>\n",
    "<h1>Blaenau Gwent has the greatest average number of casualties.</h1>"
   ]
  },
  {
   "cell_type": "markdown",
   "id": "fe5fb4a9-f71f-46cb-a197-e2fc32d4b0bc",
   "metadata": {},
   "source": [
    "<h1>Most often, vehicle types related to fatal accidents</h1>"
   ]
  },
  {
   "cell_type": "code",
   "execution_count": 29,
   "id": "629dcd4e-baea-49cd-bebd-d3dabba2660f",
   "metadata": {},
   "outputs": [],
   "source": [
    "districtarea_accidents = accidents['District Area'].value_counts()"
   ]
  },
  {
   "cell_type": "code",
   "execution_count": 30,
   "id": "4c34f02b-277e-440f-b5ab-57b60f5108a4",
   "metadata": {},
   "outputs": [
    {
     "data": {
      "text/plain": [
       "District Area\n",
       "Birmingham            13491\n",
       "Leeds                  8898\n",
       "Manchester             6720\n",
       "Bradford               6212\n",
       "Sheffield              5710\n",
       "                      ...  \n",
       "Berwick-upon-Tweed      153\n",
       "Teesdale                142\n",
       "Shetland Islands        133\n",
       "Orkney Islands          117\n",
       "Clackmannanshire         91\n",
       "Name: count, Length: 422, dtype: int64"
      ]
     },
     "execution_count": 30,
     "metadata": {},
     "output_type": "execute_result"
    }
   ],
   "source": [
    "districtarea_accidents"
   ]
  },
  {
   "cell_type": "markdown",
   "id": "eb73f7ec-a161-4dee-bd84-450de6b2f656",
   "metadata": {},
   "source": [
    "<h1>Insight No. 5</h1>\n"
   ]
  },
  {
   "cell_type": "markdown",
   "id": "3ff3b830-eef2-4cc9-9c5b-39657cf53c65",
   "metadata": {},
   "source": [
    "<h1>Cars are most fatal accidents (6,577 registrations).</h1>"
   ]
  },
  {
   "cell_type": "code",
   "execution_count": 31,
   "id": "4f375260-5687-40cf-8b64-72a943cdecfb",
   "metadata": {},
   "outputs": [],
   "source": [
    "light_severity = accidents.groupby('Light_Conditions')['Accident_Severity'].value_counts()"
   ]
  },
  {
   "cell_type": "code",
   "execution_count": 32,
   "id": "010f049c-b688-4651-91e2-64258fd48557",
   "metadata": {},
   "outputs": [
    {
     "data": {
      "text/plain": [
       "Light_Conditions             Accident_Severity\n",
       "Darkness - lighting unknown  Slight                 5622\n",
       "                             Serious                 794\n",
       "                             Fatal                    68\n",
       "Darkness - lights lit        Slight               108345\n",
       "                             Serious               19130\n",
       "                             Fatal                  1860\n",
       "Darkness - lights unlit      Slight                 2138\n",
       "                             Serious                 360\n",
       "                             Fatal                    45\n",
       "Darkness - no lighting       Slight                28651\n",
       "                             Serious                7174\n",
       "                             Fatal                  1612\n",
       "Daylight                     Slight               419045\n",
       "                             Serious               60759\n",
       "                             Fatal                  5076\n",
       "Name: count, dtype: int64"
      ]
     },
     "execution_count": 32,
     "metadata": {},
     "output_type": "execute_result"
    }
   ],
   "source": [
    "light_severity"
   ]
  },
  {
   "cell_type": "markdown",
   "id": "8100636a-5348-4a17-9c7c-48e4c486b3c2",
   "metadata": {},
   "source": [
    "<h1>Insight No. 6</h1>\n",
    "<h1>The majority of accidents occur during daylight hours, with 419,045 minor, 60,759 serious, and 5,076 fatalities reported.</h1>"
   ]
  },
  {
   "cell_type": "markdown",
   "id": "458a7365-b3e7-46da-b335-de197e5875d8",
   "metadata": {},
   "source": [
    "\n",
    "<h1>Relationship between road type and accident severity.</h1>"
   ]
  },
  {
   "cell_type": "code",
   "execution_count": 33,
   "id": "64dc7320-38ee-4bab-b9af-6dff75ed789f",
   "metadata": {},
   "outputs": [],
   "source": [
    "rtype_severity = accidents.groupby('Road_Type')['Accident_Severity'].value_counts()"
   ]
  },
  {
   "cell_type": "code",
   "execution_count": 34,
   "id": "c183db53-146b-4143-95ec-962299212ca0",
   "metadata": {},
   "outputs": [
    {
     "data": {
      "text/plain": [
       "Road_Type           Accident_Severity\n",
       "Dual carriageway    Slight                85863\n",
       "                    Serious               11746\n",
       "                    Fatal                  1815\n",
       "One way street      Slight                11809\n",
       "                    Serious                1655\n",
       "                    Fatal                    95\n",
       "Roundabout          Slight                40185\n",
       "                    Serious                3665\n",
       "                    Fatal                   142\n",
       "Single carriageway  Slight               415557\n",
       "                    Serious               70059\n",
       "                    Fatal                  6527\n",
       "Slip road           Slight                 6381\n",
       "                    Serious                 611\n",
       "                    Fatal                    49\n",
       "Name: count, dtype: int64"
      ]
     },
     "execution_count": 34,
     "metadata": {},
     "output_type": "execute_result"
    }
   ],
   "source": [
    "rtype_severity"
   ]
  },
  {
   "cell_type": "markdown",
   "id": "b272c817-154c-4afb-b16f-4c08f63d31a6",
   "metadata": {},
   "source": [
    "<h1>Insight No. 7</h1>\n",
    "<h1>Which weather and light conditions lead to the highest number of casualties?</h1>\n",
    "<h1>The highest number of casualties occur during daylight and fine weather without high winds.</h1>"
   ]
  },
  {
   "cell_type": "markdown",
   "id": "73718a58-9daa-4023-9361-75b3c60407e0",
   "metadata": {},
   "source": [
    "<h1>Correlation of urban/rural classification and accident severity.</h1>"
   ]
  },
  {
   "cell_type": "code",
   "execution_count": 35,
   "id": "0157b419-4874-4008-be07-90bf9b8c03d2",
   "metadata": {},
   "outputs": [],
   "source": [
    "area_severity = accidents.groupby('Urban_or_Rural_Area')['Accident_Severity'].value_counts()"
   ]
  },
  {
   "cell_type": "code",
   "execution_count": 36,
   "id": "d67455c0-4002-4f6d-843e-795bb5e1a77d",
   "metadata": {},
   "outputs": [
    {
     "data": {
      "text/plain": [
       "Urban_or_Rural_Area  Accident_Severity\n",
       "Rural                Slight               196077\n",
       "                     Serious               37312\n",
       "                     Fatal                  5601\n",
       "Unallocated          Slight                   10\n",
       "                     Serious                   1\n",
       "                     Fatal                     0\n",
       "Urban                Slight               367714\n",
       "                     Serious               50904\n",
       "                     Fatal                  3060\n",
       "Name: count, dtype: int64"
      ]
     },
     "execution_count": 36,
     "metadata": {},
     "output_type": "execute_result"
    }
   ],
   "source": [
    "area_severity"
   ]
  },
  {
   "cell_type": "markdown",
   "id": "cd0e370b-9d1a-42d8-aaab-aca72cc1a81c",
   "metadata": {},
   "source": [
    "<h1>Insight No. 8</h1>\n",
    "<h1>Urban areas have more accidents but fewer fatalities, with 367,714 minor, 50,904 serious, and 3,060 fatal accidents reported.\n",
    "Rural areas have fewer accidents, but a higher fatality rate, with 196,077 minor, 37,312 serious, and 5,601 fatal accidents reported.\n",
    "<1h2>"
   ]
  },
  {
   "cell_type": "markdown",
   "id": "ad398450-a1f5-4e75-9090-18002d7de877",
   "metadata": {},
   "source": [
    "<h1>Weather conditions affect the number of casualties.</h1>"
   ]
  },
  {
   "cell_type": "code",
   "execution_count": 37,
   "id": "aaddff0f-5868-4fea-a892-d5798fdec245",
   "metadata": {},
   "outputs": [],
   "source": [
    "weather_casualties = np.round(accidents.groupby('Weather_Conditions')['Number_of_Casualties'].mean(), 1)"
   ]
  },
  {
   "cell_type": "code",
   "execution_count": 38,
   "id": "7b67d94c-131b-4796-9386-7496f31806cd",
   "metadata": {},
   "outputs": [
    {
     "data": {
      "text/plain": [
       "Weather_Conditions\n",
       "Fine + high winds        1.4\n",
       "Fine no high winds       1.4\n",
       "Fog or mist              1.5\n",
       "Other                    1.4\n",
       "Raining + high winds     1.4\n",
       "Raining no high winds    1.4\n",
       "Snowing + high winds     1.4\n",
       "Snowing no high winds    1.3\n",
       "Name: Number_of_Casualties, dtype: float64"
      ]
     },
     "execution_count": 38,
     "metadata": {},
     "output_type": "execute_result"
    }
   ],
   "source": [
    "weather_casualties"
   ]
  },
  {
   "cell_type": "markdown",
   "id": "fc8d9554-f83c-4ec5-a4c8-d7f7b6f058d0",
   "metadata": {},
   "source": [
    "<h1>Insight No. 9</h1>\n",
    "<h1>Foggy or misty weather conditions have the highest casualty rate (1.5).</h1>"
   ]
  },
  {
   "cell_type": "markdown",
   "id": "7c376658-3f91-404f-b0ee-2d3b44401524",
   "metadata": {},
   "source": [
    "<h1>Most common road surface condition for Fatal accidents</h1>"
   ]
  },
  {
   "cell_type": "markdown",
   "id": "680fa45c-4496-4468-bb62-ffc566e5376d",
   "metadata": {},
   "source": [
    "<h1>The most common road surface condition that leads to fatal accidents</h1>\n",
    "<h1>Fatal Accidents Occur Most on Dry Roads</h1>"
   ]
  },
  {
   "cell_type": "code",
   "execution_count": 39,
   "id": "916121a1-a825-4332-81dd-6f1f8d77fa75",
   "metadata": {},
   "outputs": [],
   "source": [
    "severity_rtype = accidents[accidents['Accident_Severity'] == 'Fatal']['Road_Surface_Conditions'].mode()[0]"
   ]
  },
  {
   "cell_type": "markdown",
   "id": "b8fb957b-db92-475e-bf4b-80c94e121355",
   "metadata": {},
   "source": [
    "<h1>Insight No. 10</h1>\n",
    "<h1>Relationship between road type and number of vehicles involved</h1>\n",
    "<h1>Dual carriageways have the highest number of cars per accident, with two.</h1>"
   ]
  },
  {
   "cell_type": "code",
   "execution_count": 40,
   "id": "68e30045-df6b-40fd-adba-1ed1ab96b54c",
   "metadata": {},
   "outputs": [
    {
     "data": {
      "text/plain": [
       "'Dry'"
      ]
     },
     "execution_count": 40,
     "metadata": {},
     "output_type": "execute_result"
    }
   ],
   "source": [
    "severity_rtype"
   ]
  },
  {
   "cell_type": "code",
   "execution_count": 41,
   "id": "d983e7c0-3582-411d-b8e5-3715636e4109",
   "metadata": {},
   "outputs": [],
   "source": [
    "rtype_vehicles = np.round(accidents.groupby('Road_Type')['Number_of_Vehicles'].mean(), 1)"
   ]
  },
  {
   "cell_type": "code",
   "execution_count": 42,
   "id": "019ab882-000f-4575-8bc5-92ad7c5781db",
   "metadata": {},
   "outputs": [
    {
     "data": {
      "text/plain": [
       "Road_Type\n",
       "Dual carriageway      2.0\n",
       "One way street        1.6\n",
       "Roundabout            1.9\n",
       "Single carriageway    1.8\n",
       "Slip road             1.9\n",
       "Name: Number_of_Vehicles, dtype: float64"
      ]
     },
     "execution_count": 42,
     "metadata": {},
     "output_type": "execute_result"
    }
   ],
   "source": [
    "rtype_vehicles"
   ]
  },
  {
   "cell_type": "markdown",
   "id": "6f5eae5d-0b27-4ed2-9022-1dfd91b91dc2",
   "metadata": {},
   "source": [
    "<h1>Insight No. 11</h1>\n",
    "<h1>Comparison of accident severity under various meteorological conditions.</h1>\n",
    "<h1>Most accidents happen in \"Fine no high winds\" circumstances, with 441,739 minor, 72,046 serious, and 7,100 death incidents reported.</h1>"
   ]
  },
  {
   "cell_type": "code",
   "execution_count": 43,
   "id": "33c3c9ff-500d-4b6f-9b9a-6784569a66d3",
   "metadata": {},
   "outputs": [],
   "source": [
    "severity_weather = accidents.groupby('Weather_Conditions')['Accident_Severity'].value_counts()"
   ]
  },
  {
   "cell_type": "code",
   "execution_count": 44,
   "id": "d9736c43-b8ad-41be-9c92-1f178a186831",
   "metadata": {},
   "outputs": [
    {
     "data": {
      "text/plain": [
       "Weather_Conditions     Accident_Severity\n",
       "Fine + high winds      Slight                 7134\n",
       "                       Serious                1245\n",
       "                       Fatal                   175\n",
       "Fine no high winds     Slight               441739\n",
       "                       Serious               72046\n",
       "                       Fatal                  7100\n",
       "Fog or mist            Slight                 2963\n",
       "                       Serious                 483\n",
       "                       Fatal                    82\n",
       "Other                  Slight                15184\n",
       "                       Serious                1801\n",
       "                       Fatal                   165\n",
       "Raining + high winds   Slight                 8209\n",
       "                       Serious                1261\n",
       "                       Fatal                   145\n",
       "Raining no high winds  Slight                69380\n",
       "                       Serious                9468\n",
       "                       Fatal                   848\n",
       "Snowing + high winds   Slight                  773\n",
       "                       Serious                 109\n",
       "                       Fatal                     3\n",
       "Snowing no high winds  Slight                 5637\n",
       "                       Serious                 565\n",
       "                       Fatal                    36\n",
       "Name: count, dtype: int64"
      ]
     },
     "execution_count": 44,
     "metadata": {},
     "output_type": "execute_result"
    }
   ],
   "source": [
    "severity_weather"
   ]
  },
  {
   "cell_type": "markdown",
   "id": "51559557-3973-477d-b607-882aabefb623",
   "metadata": {},
   "source": [
    "<h1>Insight No. 12</h1>\n",
    "<h1>District with the highest number of accidents during the day</h1>"
   ]
  },
  {
   "cell_type": "code",
   "execution_count": 45,
   "id": "a7d7c4b8-5a33-449c-b8cb-cd079c30aac2",
   "metadata": {},
   "outputs": [],
   "source": [
    "district_daylight = accidents[accidents['Light_Conditions'] == 'Daylight']['District Area'].value_counts()"
   ]
  },
  {
   "cell_type": "code",
   "execution_count": 46,
   "id": "9436af41-6b85-4ec1-9f63-382eb18921f6",
   "metadata": {},
   "outputs": [
    {
     "data": {
      "text/plain": [
       "District Area\n",
       "Birmingham            9667\n",
       "Leeds                 6482\n",
       "Manchester            4610\n",
       "Bradford              4459\n",
       "Sheffield             4211\n",
       "                      ... \n",
       "Berwick-upon-Tweed     120\n",
       "Teesdale               120\n",
       "Shetland Islands        89\n",
       "Orkney Islands          74\n",
       "Clackmannanshire        68\n",
       "Name: count, Length: 422, dtype: int64"
      ]
     },
     "execution_count": 46,
     "metadata": {},
     "output_type": "execute_result"
    }
   ],
   "source": [
    "district_daylight"
   ]
  },
  {
   "cell_type": "markdown",
   "id": "9287e66b-0ad4-439c-80a3-b8ae3fecae5a",
   "metadata": {},
   "source": [
    "<h1>Insight No. 13</h1>\n",
    "<h1>The district with the highest number of accidents at night</h1>\n",
    "<h1>Birmingham has the most nighttime accidents</h1>"
   ]
  },
  {
   "cell_type": "code",
   "execution_count": 47,
   "id": "705ed39a-07ac-4ab3-b689-1b51c2965ec7",
   "metadata": {},
   "outputs": [],
   "source": [
    "district_nighttime = accidents[accidents['Light_Conditions'] != 'Daylight']['District Area'].value_counts()"
   ]
  },
  {
   "cell_type": "code",
   "execution_count": 48,
   "id": "14ff66f9-ff81-4772-aa36-d7400793c100",
   "metadata": {},
   "outputs": [
    {
     "data": {
      "text/plain": [
       "District Area\n",
       "Birmingham            3824\n",
       "Leeds                 2416\n",
       "Manchester            2110\n",
       "Westminster           1801\n",
       "Bradford              1753\n",
       "                      ... \n",
       "Orkney Islands          43\n",
       "Clackmannshire          38\n",
       "Berwick-upon-Tweed      33\n",
       "Clackmannanshire        23\n",
       "Teesdale                22\n",
       "Name: count, Length: 422, dtype: int64"
      ]
     },
     "execution_count": 48,
     "metadata": {},
     "output_type": "execute_result"
    }
   ],
   "source": [
    "district_nighttime"
   ]
  },
  {
   "cell_type": "markdown",
   "id": "98e4b484-dd37-4bd2-bd91-c81acd2ef2cf",
   "metadata": {},
   "source": [
    "<h1>Insight No. 14</h1>\n",
    "<h1>Clustering of accident-prone areas based on latitude and longitude</h1>\n",
    "<h1>The highest accident count (45) occurs at latitude 52.949719, longitude -0.977611</h1>"
   ]
  },
  {
   "cell_type": "code",
   "execution_count": 49,
   "id": "b181e34b-44b6-4a49-be1b-fe3e4c9198f5",
   "metadata": {},
   "outputs": [],
   "source": [
    "long_lat = accidents[['Latitude', 'Longitude']].value_counts()"
   ]
  },
  {
   "cell_type": "code",
   "execution_count": 50,
   "id": "24354f44-5fb6-4203-87c6-a9ced66da1bf",
   "metadata": {},
   "outputs": [
    {
     "data": {
      "text/plain": [
       "Latitude   Longitude\n",
       "52.949719  -0.977611    45\n",
       "52.458798  -1.871043    35\n",
       "53.083165  -0.816789    33\n",
       "52.967634  -1.190861    31\n",
       "52.938860  -1.216694    29\n",
       "                        ..\n",
       "51.608856  -0.698675     1\n",
       "51.608845  -0.816519     1\n",
       "51.608842  -3.334621     1\n",
       "51.608833  -0.182514     1\n",
       "60.757544  -0.862815     1\n",
       "Name: count, Length: 570518, dtype: int64"
      ]
     },
     "execution_count": 50,
     "metadata": {},
     "output_type": "execute_result"
    }
   ],
   "source": [
    "long_lat"
   ]
  },
  {
   "cell_type": "markdown",
   "id": "49ee803e-947c-4ddb-a707-2ab3798ec1ce",
   "metadata": {},
   "source": [
    "<h1>Insight No. 15</h1>\n",
    "<h1>Proportion of accidents occurring on weekends</h1>\n",
    "<h1>The proportion of accidents happening on weekends is 11.84%</h1>"
   ]
  },
  {
   "cell_type": "code",
   "execution_count": 51,
   "id": "7f002d8f-e8c6-46ce-902f-9d24293e6eec",
   "metadata": {},
   "outputs": [],
   "source": [
    "weekends = (accidents['Accident Date'].dt.dayofweek >= 5).mean() * 100"
   ]
  },
  {
   "cell_type": "code",
   "execution_count": 52,
   "id": "4d296547-bcd9-4463-bcf5-156e2c8c9653",
   "metadata": {},
   "outputs": [
    {
     "data": {
      "text/plain": [
       "11.840697222100294"
      ]
     },
     "execution_count": 52,
     "metadata": {},
     "output_type": "execute_result"
    }
   ],
   "source": [
    "weekends"
   ]
  },
  {
   "cell_type": "markdown",
   "id": "8acdee08-2220-487c-8c92-43e9a4c4cb88",
   "metadata": {},
   "source": [
    "<h1>Insight No. 16</h1>\n",
    "<h1>Proportion of accidents occurring on weekdays</h1>\n",
    "<h1>The proportion of accidents happening on weekdays is 28.27%</h1>"
   ]
  },
  {
   "cell_type": "code",
   "execution_count": 53,
   "id": "ce4c08fd-1ea8-4d31-b35c-7a7a646a9855",
   "metadata": {},
   "outputs": [],
   "source": [
    "weekdays = (accidents['Accident Date'].dt.dayofweek < 5).mean() * 100"
   ]
  },
  {
   "cell_type": "code",
   "execution_count": 54,
   "id": "c455b2cb-1714-4c10-8dd2-17cd426c965e",
   "metadata": {},
   "outputs": [
    {
     "data": {
      "text/plain": [
       "28.27061250622466"
      ]
     },
     "execution_count": 54,
     "metadata": {},
     "output_type": "execute_result"
    }
   ],
   "source": [
    "weekdays"
   ]
  },
  {
   "cell_type": "markdown",
   "id": "5f8dfa4f-c6c5-4e8b-bfae-de06dda8b15d",
   "metadata": {},
   "source": [
    "<h1>Insight No. 17</h1>\n",
    "<h1>Road type with the highest number of fatal accidents</h1>\n",
    "<h1>Single carriageways have the highest number of fatal accidents, with 6,527 fatalities</h1>"
   ]
  },
  {
   "cell_type": "code",
   "execution_count": 55,
   "id": "3856a212-94f5-4eaa-98cb-712f4041eb85",
   "metadata": {},
   "outputs": [],
   "source": [
    "rtype_fatal = accidents[accidents['Accident_Severity'] == 'Fatal']['Road_Type'].value_counts()"
   ]
  },
  {
   "cell_type": "code",
   "execution_count": 56,
   "id": "bb1786a4-1cb7-4b16-971a-c96e62d1d63a",
   "metadata": {},
   "outputs": [
    {
     "data": {
      "text/plain": [
       "Road_Type\n",
       "Single carriageway    6527\n",
       "Dual carriageway      1815\n",
       "Roundabout             142\n",
       "One way street          95\n",
       "Slip road               49\n",
       "Name: count, dtype: int64"
      ]
     },
     "execution_count": 56,
     "metadata": {},
     "output_type": "execute_result"
    }
   ],
   "source": [
    "rtype_fatal"
   ]
  },
  {
   "cell_type": "markdown",
   "id": "49b22b3c-b51e-4c54-a7d3-13bf4e5d8fc0",
   "metadata": {},
   "source": [
    "<h1>Insight No. 18</h1>\n",
    "<h1>Most common day of the week for accidents</h1>\n",
    "<h1>Saturday has the highest number of accidents (43,164), followed by Wednesday (40,037) and Friday (39,822)</h1>"
   ]
  },
  {
   "cell_type": "code",
   "execution_count": 57,
   "id": "c3c137d5-d383-4f29-8025-84dbcdf9c883",
   "metadata": {},
   "outputs": [],
   "source": [
    "accident_day = accidents['Accident Date'].dt.day_name().value_counts()"
   ]
  },
  {
   "cell_type": "code",
   "execution_count": 58,
   "id": "3c3df31f-68a8-4fa3-9a45-c91002d1ed36",
   "metadata": {},
   "outputs": [
    {
     "data": {
      "text/plain": [
       "Accident Date\n",
       "Saturday     43164\n",
       "Wednesday    40037\n",
       "Friday       39822\n",
       "Thursday     39641\n",
       "Tuesday      38714\n",
       "Sunday       35065\n",
       "Monday       28564\n",
       "Name: count, dtype: int64"
      ]
     },
     "execution_count": 58,
     "metadata": {},
     "output_type": "execute_result"
    }
   ],
   "source": [
    "accident_day"
   ]
  },
  {
   "cell_type": "markdown",
   "id": "334d722e-258e-4236-ac62-bcc0fcde273a",
   "metadata": {},
   "source": [
    "<h1>Insight No. 19</h1>\n",
    "<h1>Average number of vehicles involved in accidents on dry vs. wet roads</h1>\n",
    "<h1>The average number of vehicles involved in accidents is the same (1.8) for both dry and wet or damp roads</h1>"
   ]
  },
  {
   "cell_type": "code",
   "execution_count": 59,
   "id": "5dde0b16-dcac-4175-97e6-6f40e9f95e30",
   "metadata": {},
   "outputs": [],
   "source": [
    "vehicles_roadcon = np.round(accidents.groupby('Road_Surface_Conditions')['Number_of_Vehicles'].mean(), 1)"
   ]
  },
  {
   "cell_type": "code",
   "execution_count": 60,
   "id": "8a3a3541-9575-4221-b974-205fe2e80243",
   "metadata": {},
   "outputs": [
    {
     "data": {
      "text/plain": [
       "Road_Surface_Conditions\n",
       "Dry                     1.8\n",
       "Flood over 3cm. deep    1.6\n",
       "Frost or ice            1.6\n",
       "Snow                    1.7\n",
       "Wet or damp             1.8\n",
       "Name: Number_of_Vehicles, dtype: float64"
      ]
     },
     "execution_count": 60,
     "metadata": {},
     "output_type": "execute_result"
    }
   ],
   "source": [
    "vehicles_roadcon"
   ]
  },
  {
   "cell_type": "markdown",
   "id": "8ca0524f-b4f7-4a2e-878d-e48517995245",
   "metadata": {},
   "source": [
    "<h1>Insight No. 20</h1>\n",
    "<h1>Maximum number of casualties in a single-vehicle accident.</h1>"
   ]
  },
  {
   "cell_type": "code",
   "execution_count": 61,
   "id": "73fe41e4-fed5-4d87-a834-5c676a78afe9",
   "metadata": {},
   "outputs": [],
   "source": [
    "casualties_single = accidents[accidents['Number_of_Vehicles'] == 1]['Number_of_Casualties'].max()"
   ]
  },
  {
   "cell_type": "code",
   "execution_count": 62,
   "id": "14311cb8-cc62-470b-af29-7e54067713d7",
   "metadata": {},
   "outputs": [
    {
     "data": {
      "text/plain": [
       "68"
      ]
     },
     "execution_count": 62,
     "metadata": {},
     "output_type": "execute_result"
    }
   ],
   "source": [
    "casualties_single"
   ]
  },
  {
   "cell_type": "code",
   "execution_count": 63,
   "id": "baa2e6d2-34dc-4a81-a3f9-62a97cfd2f72",
   "metadata": {},
   "outputs": [
    {
     "data": {
      "text/plain": [
       "Index                              object\n",
       "Accident_Severity                category\n",
       "Accident Date              datetime64[ns]\n",
       "Latitude                          float64\n",
       "Light_Conditions                 category\n",
       "District Area                    category\n",
       "Longitude                         float64\n",
       "Number_of_Casualties                int64\n",
       "Number_of_Vehicles                  int64\n",
       "Road_Surface_Conditions          category\n",
       "Road_Type                        category\n",
       "Urban_or_Rural_Area              category\n",
       "Weather_Conditions               category\n",
       "Vehicle_Type                     category\n",
       "dtype: object"
      ]
     },
     "execution_count": 63,
     "metadata": {},
     "output_type": "execute_result"
    }
   ],
   "source": [
    "accidents.dtypes"
   ]
  },
  {
   "cell_type": "markdown",
   "id": "89bb73c2-4062-4109-9741-e89b358aafa9",
   "metadata": {},
   "source": [
    "<h1>Insight No. 21</h1>\n",
    "<h1>A single-vehicle collision can result in up to 68 victims.</h1>\n",
    "<h1>Which vehicle type has the most accidents?</h1>\n",
    "<h1>Cars have the highest number of accidents.</h1>"
   ]
  },
  {
   "cell_type": "code",
   "execution_count": 64,
   "id": "dd3b3032-691c-4946-827e-c9c0ef4bcba2",
   "metadata": {},
   "outputs": [],
   "source": [
    "vehicletype_accidents = accidents['Vehicle_Type'].value_counts()"
   ]
  },
  {
   "cell_type": "code",
   "execution_count": 65,
   "id": "89385d48-617e-4994-90d1-7572f9bf4ffa",
   "metadata": {},
   "outputs": [
    {
     "data": {
      "text/plain": [
       "Vehicle_Type\n",
       "Car                                      497992\n",
       "Van / Goods 3.5 tonnes mgw or under       34160\n",
       "Bus or coach (17 or more pass seats)      25878\n",
       "Motorcycle over 500cc                     25657\n",
       "Goods 7.5 tonnes mgw and over             17307\n",
       "Motorcycle 125cc and under                15269\n",
       "Taxi/Private hire car                     13294\n",
       "Motorcycle over 125cc and up to 500cc      7656\n",
       "Motorcycle 50cc and under                  7603\n",
       "Goods over 3.5t. and under 7.5t            6096\n",
       "Other vehicle                              5637\n",
       "Minibus (8 - 16 passenger seats)           1976\n",
       "Agricultural vehicle                       1947\n",
       "Pedal cycle                                 197\n",
       "Data missing or out of range                  6\n",
       "Ridden horse                                  4\n",
       "Name: count, dtype: int64"
      ]
     },
     "execution_count": 65,
     "metadata": {},
     "output_type": "execute_result"
    }
   ],
   "source": [
    "vehicletype_accidents"
   ]
  },
  {
   "cell_type": "markdown",
   "id": "a7d1370a-1735-482e-b336-50699e8e12f1",
   "metadata": {},
   "source": [
    "<h1>Insight No. 22</h1>\n",
    "<h1>In which area has the has the higher number of casualties?</h1>\n",
    "<h1>Urban area has a higher number of casualties</h1>"
   ]
  },
  {
   "cell_type": "code",
   "execution_count": 66,
   "id": "70b75f6e-3bc1-414e-b382-5c3e496b1a2a",
   "metadata": {},
   "outputs": [],
   "source": [
    "area_casualties = accidents.groupby('Urban_or_Rural_Area')['Number_of_Casualties'].sum()"
   ]
  },
  {
   "cell_type": "code",
   "execution_count": 67,
   "id": "dcbb3868-a0f9-435e-a450-27c2e3813c77",
   "metadata": {},
   "outputs": [
    {
     "data": {
      "text/plain": [
       "Urban_or_Rural_Area\n",
       "Rural          353515\n",
       "Unallocated        13\n",
       "Urban          543040\n",
       "Name: Number_of_Casualties, dtype: int64"
      ]
     },
     "execution_count": 67,
     "metadata": {},
     "output_type": "execute_result"
    }
   ],
   "source": [
    "area_casualties"
   ]
  },
  {
   "cell_type": "markdown",
   "id": "8b5ab1cb-8f6a-44cd-a3fc-c5fd37f3c2f3",
   "metadata": {},
   "source": [
    "<h1>Insight No. 23</h1>\n",
    "<h1>What is the average number of vehicles in an accident?</h1>\n",
    "<h1>The average number of vehicles in an accident is 1.8 </h1>"
   ]
  },
  {
   "cell_type": "code",
   "execution_count": 68,
   "id": "485bd469-db7b-41b3-bc83-dae126ddbb52",
   "metadata": {},
   "outputs": [],
   "source": [
    "avg_vehicles = np.round(accidents['Number_of_Vehicles'].mean(), 1)"
   ]
  },
  {
   "cell_type": "code",
   "execution_count": 69,
   "id": "e137ffb6-19c6-4d95-bcc6-4464f4bde96c",
   "metadata": {},
   "outputs": [
    {
     "data": {
      "text/plain": [
       "1.8"
      ]
     },
     "execution_count": 69,
     "metadata": {},
     "output_type": "execute_result"
    }
   ],
   "source": [
    "avg_vehicles"
   ]
  },
  {
   "cell_type": "markdown",
   "id": "7824ef92-28c6-4ca0-a224-ad139a7ac6be",
   "metadata": {},
   "source": [
    "<h1>Insight No. 24</h1>\n",
    "<h1>In which road area has the higher number of accidents?</h1>\n",
    "<h1>Urban roads have a higher accidents than roads in rural areas.</h1>"
   ]
  },
  {
   "cell_type": "code",
   "execution_count": 70,
   "id": "bec77c7a-546c-4554-8c2b-43278b7e5fbc",
   "metadata": {},
   "outputs": [],
   "source": [
    "accidents_per_area_road = accidents.groupby(['Urban_or_Rural_Area', 'Road_Type']).size().unstack().T"
   ]
  },
  {
   "cell_type": "code",
   "execution_count": 71,
   "id": "7af9066f-9cd7-46c6-9c8b-50f036c8f056",
   "metadata": {},
   "outputs": [
    {
     "data": {
      "text/html": [
       "<div>\n",
       "<style scoped>\n",
       "    .dataframe tbody tr th:only-of-type {\n",
       "        vertical-align: middle;\n",
       "    }\n",
       "\n",
       "    .dataframe tbody tr th {\n",
       "        vertical-align: top;\n",
       "    }\n",
       "\n",
       "    .dataframe thead th {\n",
       "        text-align: right;\n",
       "    }\n",
       "</style>\n",
       "<table border=\"1\" class=\"dataframe\">\n",
       "  <thead>\n",
       "    <tr style=\"text-align: right;\">\n",
       "      <th>Urban_or_Rural_Area</th>\n",
       "      <th>Rural</th>\n",
       "      <th>Unallocated</th>\n",
       "      <th>Urban</th>\n",
       "    </tr>\n",
       "    <tr>\n",
       "      <th>Road_Type</th>\n",
       "      <th></th>\n",
       "      <th></th>\n",
       "      <th></th>\n",
       "    </tr>\n",
       "  </thead>\n",
       "  <tbody>\n",
       "    <tr>\n",
       "      <th>Dual carriageway</th>\n",
       "      <td>48715</td>\n",
       "      <td>1</td>\n",
       "      <td>50708</td>\n",
       "    </tr>\n",
       "    <tr>\n",
       "      <th>One way street</th>\n",
       "      <td>1193</td>\n",
       "      <td>0</td>\n",
       "      <td>12366</td>\n",
       "    </tr>\n",
       "    <tr>\n",
       "      <th>Roundabout</th>\n",
       "      <td>15545</td>\n",
       "      <td>1</td>\n",
       "      <td>28446</td>\n",
       "    </tr>\n",
       "    <tr>\n",
       "      <th>Single carriageway</th>\n",
       "      <td>168010</td>\n",
       "      <td>9</td>\n",
       "      <td>324124</td>\n",
       "    </tr>\n",
       "    <tr>\n",
       "      <th>Slip road</th>\n",
       "      <td>4294</td>\n",
       "      <td>0</td>\n",
       "      <td>2747</td>\n",
       "    </tr>\n",
       "  </tbody>\n",
       "</table>\n",
       "</div>"
      ],
      "text/plain": [
       "Urban_or_Rural_Area   Rural  Unallocated   Urban\n",
       "Road_Type                                       \n",
       "Dual carriageway      48715            1   50708\n",
       "One way street         1193            0   12366\n",
       "Roundabout            15545            1   28446\n",
       "Single carriageway   168010            9  324124\n",
       "Slip road              4294            0    2747"
      ]
     },
     "execution_count": 71,
     "metadata": {},
     "output_type": "execute_result"
    }
   ],
   "source": [
    "accidents_per_area_road"
   ]
  },
  {
   "cell_type": "markdown",
   "id": "30f37ea3-db7e-41ff-922a-ea96ab75060d",
   "metadata": {},
   "source": [
    "<h1>Insight No.25</h1>\n",
    "<h1>Which day of the week has the highest number of accidents?</h1>"
   ]
  },
  {
   "cell_type": "code",
   "execution_count": 72,
   "id": "fd862a89-c31c-4c55-acc8-34f2028c5e06",
   "metadata": {},
   "outputs": [],
   "source": [
    "day_of_week_accidents = accidents.groupby(\"Index\").size()"
   ]
  },
  {
   "cell_type": "code",
   "execution_count": 73,
   "id": "d9098734-345e-4a5d-aa47-cb0eec4369ca",
   "metadata": {},
   "outputs": [
    {
     "data": {
      "text/plain": [
       "'2.01E+12'"
      ]
     },
     "execution_count": 73,
     "metadata": {},
     "output_type": "execute_result"
    }
   ],
   "source": [
    "day_of_week_accidents.idxmax()"
   ]
  },
  {
   "cell_type": "code",
   "execution_count": null,
   "id": "db7d1a51-0b95-4bba-8320-003257417ff1",
   "metadata": {},
   "outputs": [],
   "source": []
  }
 ],
 "metadata": {
  "kernelspec": {
   "display_name": "Python 3 (ipykernel)",
   "language": "python",
   "name": "python3"
  },
  "language_info": {
   "codemirror_mode": {
    "name": "ipython",
    "version": 3
   },
   "file_extension": ".py",
   "mimetype": "text/x-python",
   "name": "python",
   "nbconvert_exporter": "python",
   "pygments_lexer": "ipython3",
   "version": "3.11.5"
  }
 },
 "nbformat": 4,
 "nbformat_minor": 5
}
